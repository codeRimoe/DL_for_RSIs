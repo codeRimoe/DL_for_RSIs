{
 "cells": [
  {
   "cell_type": "code",
   "execution_count": 1,
   "metadata": {},
   "outputs": [
    {
     "name": "stderr",
     "output_type": "stream",
     "text": [
      "C:\\Program Files\\Anaconda2\\envs\\tfpy\\lib\\site-packages\\h5py\\__init__.py:36: FutureWarning: Conversion of the second argument of issubdtype from `float` to `np.floating` is deprecated. In future, it will be treated as `np.float64 == np.dtype(float).type`.\n",
      "  from ._conv import register_converters as _register_converters\n"
     ]
    }
   ],
   "source": [
    "# -*- coding:utf-8 -*-\n",
    "import math\n",
    "import time\n",
    "import datetime\n",
    "import tensorflow as tf\n",
    "import numpy as np\n",
    "from tensorflow.contrib import rnn\n"
   ]
  },
  {
   "cell_type": "code",
   "execution_count": 2,
   "metadata": {},
   "outputs": [],
   "source": [
    "import os\n",
    "import scipy.io\n",
    "\n",
    "# main work path\n",
    "os.chdir(r'D:\\Yue\\Process\\hsi_lstm\\experiment')\n",
    "import SSM\n",
    "\n",
    "# map_name = 'Pavia'\n",
    "map_name = 'Indian'\n",
    "smat = 'predict_map_Indian_stssgru'\n",
    "\n",
    "# augmentation\n",
    "AUG = 1\n",
    "\n",
    "AT = 0         # Attention model\n",
    "ST = 1         # Shorten\n",
    "SS = 1         # Spatial-spectral RNN\n",
    "RU = 'GRU'     # RNN Unit: GRU/LSTM\n",
    "\n",
    "# hyperparameter\n",
    "hidden_size = 128\n",
    "n_time = 5\n",
    "n_filter = 16\n",
    "m_filter = 16\n",
    "n_em = 4\n",
    "\n",
    "max_lr = 0.005\n",
    "min_lr = 0.000001\n",
    "decay_speed = 2000.0\n",
    "_batch_size = 512\n",
    "n_iter = 3000\n",
    "n_exp_times = 1"
   ]
  },
  {
   "cell_type": "code",
   "execution_count": 3,
   "metadata": {},
   "outputs": [],
   "source": [
    "# setting: dataset\n",
    "if map_name == 'Pavia':\n",
    "    img_file = 'PaviaU'\n",
    "    img_id = 'paviaU'\n",
    "    gt_file = 'PaviaU_gt'\n",
    "    gt_id = 'paviaU_gt'\n",
    "    trainN = [548, 540, 392, 542, 256, 532, 375, 514, 231]\n",
    "    class_num = 9\n",
    "    Ashape = [610, 340, 103]\n",
    "elif map_name == 'Indian':\n",
    "    img_file = 'Indian_pines_corrected'\n",
    "    img_id = 'indian_pines_corrected'\n",
    "    gt_file = 'Indian_pines_gt'\n",
    "    gt_id = 'indian_pines_gt'\n",
    "    trainN = [30, 150, 150, 100, 150, 150, 20, 150, 15, 150, 150, 150, 150, 150, 50, 50]\n",
    "    # trainN = [50, 50, 50, 50, 50, 50, 50, 50, 50, 50, 50, 50, 50, 15, 15, 15]\n",
    "    class_num = 16\n",
    "    Ashape = [145, 145, 200]\n",
    "r_win = 1\n",
    "if SS == 1:\n",
    "    r_win = 5\n",
    "timestep_size = Ashape[-1]\n"
   ]
  },
  {
   "cell_type": "code",
   "execution_count": 4,
   "metadata": {},
   "outputs": [
    {
     "name": "stdout",
     "output_type": "stream",
     "text": [
      "2018-06-23 00:26:07.922239\n"
     ]
    }
   ],
   "source": [
    "# setting: GPU\n",
    "config = tf.ConfigProto()\n",
    "config.gpu_options.allow_growth = True\n",
    "sess = tf.Session(config=config)\n",
    "print(datetime.datetime.now())"
   ]
  },
  {
   "cell_type": "code",
   "execution_count": 5,
   "metadata": {},
   "outputs": [
    {
     "name": "stdout",
     "output_type": "stream",
     "text": [
      "(?, 5, 128)\n",
      "(?, 16)\n"
     ]
    }
   ],
   "source": [
    "n_same = timestep_size % n_time\n",
    "n_f = timestep_size // n_time + n_same\n",
    "n_same = n_f - n_same\n",
    "\n",
    "n_em -= 1\n",
    "\n",
    "batch_size = tf.placeholder(tf.int32,[])\n",
    "\n",
    "X_input = tf.placeholder(tf.float32, [None, r_win, r_win, timestep_size])\n",
    "Y = tf.placeholder(tf.float32, [None, class_num])\n",
    "lr = tf.placeholder(tf.float32)\n",
    "\n",
    "if SS == 0:\n",
    "    X = tf.reshape(X_input, [-1, timestep_size, 1])\n",
    "    m_filter = 1\n",
    "    X_mask = tf.reshape(X_input, [-1, timestep_size])\n",
    "elif SS == 1:\n",
    "    X = tf.transpose(tf.reshape(X_input, [-1, 1, r_win, r_win, timestep_size]), [0, 4, 2, 3, 1])\n",
    "    sfilter_3d1 = tf.Variable(tf.random_normal([1, 5, 5, 1, n_filter]))\n",
    "    sfilter_3d2 = tf.Variable(tf.random_normal([1, 3, 3, 1, n_filter]))\n",
    "    sfilter_3d3 = tf.Variable(tf.random_normal([1, 1, 1, 1, n_filter]))\n",
    "    X_spatial1 = tf.nn.relu(tf.nn.conv3d(X, sfilter_3d1, strides=[1, 1, 1, 1, 1], padding='VALID'))\n",
    "    X_spatial2 = tf.nn.max_pool3d(tf.nn.relu(tf.nn.conv3d(X, sfilter_3d2, strides=[1, 1, 1, 1, 1], padding='VALID')),[1,1,3,3,1],[1,1,1,1,1],padding='VALID')\n",
    "    X_spatial3 = tf.nn.max_pool3d(tf.nn.relu(tf.nn.conv3d(X, sfilter_3d3, strides=[1, 1, 1, 1, 1], padding='VALID')),[1,1,5,5,1],[1,1,1,1,1],padding='VALID')\n",
    "    X = X_spatial1 + X_spatial2 + X_spatial3\n",
    "    X = tf.reshape(X, [-1, X.get_shape()[1], n_filter])\n",
    "    mid = r_win // 2\n",
    "    X_mask = tf.reshape(X_input[:, mid, mid, :], [-1, timestep_size])\n",
    "\n",
    "if AT == 1:\n",
    "    # attention model\n",
    "    W = tf.Variable(tf.zeros([timestep_size, timestep_size]), dtype=tf.float32)\n",
    "    bias = tf.Variable(tf.ones([timestep_size]), dtype=tf.float32)\n",
    "    X_mask = tf.nn.sigmoid(tf.matmul(X_mask, W) + bias)\n",
    "    X_mask = tf.reshape(X_mask, [-1, timestep_size])\n",
    "    X = tf.reshape(X * X_mask, [-1, timestep_size, 1])    \n",
    "\n",
    "if ST == 1:\n",
    "    sfilter_1d = tf.Variable(tf.random_normal([n_f, m_filter, hidden_size]))\n",
    "    X = tf.nn.relu(tf.nn.conv1d(X, sfilter_1d, n_same,padding='VALID'))\n",
    "\n",
    "if RU == 'LSTM':\n",
    "    ru_cell = rnn.LSTMCell(hidden_size)\n",
    "elif RU == 'GRU':\n",
    "    ru_cell = rnn.GRUCell(hidden_size)\n",
    "\n",
    "init_state = ru_cell.zero_state(batch_size, dtype=tf.float32)\n",
    "outputs, state = tf.nn.dynamic_rnn(ru_cell, inputs=X, initial_state=init_state, time_major=False)\n",
    "Hsum = outputs[:, -1, :]\n",
    "W = tf.Variable(tf.truncated_normal([hidden_size, class_num], stddev=0.1), dtype=tf.float32)\n",
    "bias = tf.Variable(tf.constant(0.1, shape=[class_num]), dtype=tf.float32)\n",
    "y_pre = tf.nn.softmax(tf.matmul(Hsum, W) + bias)\n",
    "\n",
    "print(outputs.shape)\n",
    "print(y_pre.get_shape())\n",
    "\n",
    "if n_em > 0:\n",
    "    for em in range(n_em):\n",
    "        if RU == 'LSTM':\n",
    "            ru_cell = rnn.LSTMCell(hidden_size, name='%s' % em)\n",
    "        elif RU == 'GRU':\n",
    "            ru_cell = rnn.GRUCell(hidden_size, name='%s' % em)\n",
    "        init_state = ru_cell.zero_state(batch_size, dtype=tf.float32)\n",
    "        outputs, state = tf.nn.dynamic_rnn(ru_cell, inputs=X, initial_state=init_state, time_major=False)\n",
    "        Hsum = outputs[:, -1, :]\n",
    "        W = tf.Variable(tf.truncated_normal([hidden_size, class_num], stddev=0.1), dtype=tf.float32)\n",
    "        bias = tf.Variable(tf.constant(0.1,shape=[class_num]), dtype=tf.float32)\n",
    "        y_pre += tf.nn.softmax(tf.matmul(Hsum, W) + bias)\n",
    "\n",
    "# Loss Function\n",
    "cross_entropy = -tf.reduce_mean(Y * tf.log(y_pre))\n",
    "train_op = tf.train.AdamOptimizer(lr).minimize(cross_entropy)\n",
    "Y_hat = tf.argmax(y_pre, 1)\n",
    "correct_prediction = tf.equal(Y_hat, tf.argmax(Y, 1))\n",
    "accuracy = tf.reduce_mean(tf.cast(correct_prediction, \"float\"))"
   ]
  },
  {
   "cell_type": "code",
   "execution_count": 6,
   "metadata": {},
   "outputs": [
    {
     "name": "stdout",
     "output_type": "stream",
     "text": [
      "Runtime:0:05:33.551632, Iter15, step 3000, training accuracy 0.847656\n",
      "333.551632642746\n",
      "0.6229372935888622\n"
     ]
    }
   ],
   "source": [
    "result = []\n",
    "\n",
    "for _ntime in range(n_exp_times):\n",
    "    _t = []\n",
    "    samples = SSM.SSM(Ashape, r_win, class_num, AUG, _ntime + 1)\n",
    "    samples.load(img_file, img_id, gt_file, gt_id, 0, 1)\n",
    "    samples.normalization(0)\n",
    "    samples.init_sam2(trainN, [0])\n",
    "    samples.load_all_sam()\n",
    "    sess.run(tf.global_variables_initializer())\n",
    "    st = datetime.datetime.now()\n",
    "    ss = time.time()\n",
    "    for i in range(n_iter):\n",
    "        sambatch, labbatch, _ = samples.loop_sample(i, _batch_size)\n",
    "        learning_rate = min_lr + (max_lr - min_lr) * math.exp(-i/decay_speed)\n",
    "        if (i + 1) % 200 == 0:\n",
    "            train_accuracy = sess.run(accuracy, feed_dict={\n",
    "                X_input:sambatch, Y: labbatch, batch_size: _batch_size, lr:learning_rate})\n",
    "        sess.run(train_op, feed_dict={X_input: sambatch, Y: labbatch, batch_size: _batch_size, lr:learning_rate})\n",
    "    print(\"Runtime:%s, Iter%d, step %d, training accuracy %g\" % (datetime.datetime.now() - st, (i+1)/200,\n",
    "                                                             (i+1), train_accuracy))\n",
    "    print(time.time() - ss) \n",
    "    _t.append(time.time() - ss)\n",
    "    # Acc\n",
    "    if map_name == 'Indian':\n",
    "        x1 = 1500 * sess.run(accuracy, feed_dict={\n",
    "            X_input: samples.test['sample'][:1500],\n",
    "            Y: samples.test['label_v'][:1500],\n",
    "            batch_size:1500})\n",
    "        x2 = 1500 * sess.run(accuracy, feed_dict={\n",
    "            X_input: samples.test['sample'][1500:3000],\n",
    "            Y: samples.test['label_v'][1500:3000],\n",
    "            batch_size:1500})\n",
    "        x3 = 1500 * sess.run(accuracy, feed_dict={\n",
    "            X_input: samples.test['sample'][3000:4500],\n",
    "            Y: samples.test['label_v'][3000:4500],\n",
    "            batch_size:1500})\n",
    "        x4 = 1500 * sess.run(accuracy, feed_dict={\n",
    "            X_input: samples.test['sample'][4500:6000],\n",
    "            Y: samples.test['label_v'][4500:6000],\n",
    "            batch_size:1500})\n",
    "        x5 = 1500 * sess.run(accuracy, feed_dict={\n",
    "            X_input: samples.test['sample'][6000:7500],\n",
    "            Y: samples.test['label_v'][6000:7500],\n",
    "            batch_size:1500})\n",
    "        x6 = 984 * sess.run(accuracy, feed_dict={\n",
    "            X_input: samples.test['sample'][7500:8484],\n",
    "            Y: samples.test['label_v'][7500:8484],\n",
    "            batch_size:984})\n",
    "        xx = (x1+x2+x3+x4+x5+x6)/8484\n",
    "    elif map_name == 'Pavia':\n",
    "        xx = 2846 * sess.run(accuracy, feed_dict={\n",
    "            X_input: samples.test['sample'][36000:38846],\n",
    "            Y: samples.test['label_v'][36000:38846],\n",
    "            batch_size:2846})\n",
    "        for i in range(12):\n",
    "            time.sleep(1)\n",
    "            xx += 3000 * sess.run(accuracy, feed_dict={\n",
    "                X_input: samples.test['sample'][i*3000:(i+1)*3000],\n",
    "                Y: samples.test['label_v'][i*3000:(i+1)*3000],\n",
    "                batch_size:3000})\n",
    "        xx /= 38484\n",
    "    print(xx)\n",
    "    _t.append(xx)\n",
    "    result.append(_t)"
   ]
  },
  {
   "cell_type": "code",
   "execution_count": 7,
   "metadata": {},
   "outputs": [
    {
     "name": "stdout",
     "output_type": "stream",
     "text": [
      "[333.55163264   0.62293729]\n",
      "[0. 0.]\n"
     ]
    }
   ],
   "source": [
    "result = np.array(result)\n",
    "print(np.mean(result,axis=0))\n",
    "print(np.std(result,axis=0))"
   ]
  },
  {
   "cell_type": "code",
   "execution_count": 8,
   "metadata": {},
   "outputs": [],
   "source": [
    "pm = [] \n",
    "if map_name == 'Pavia':\n",
    "    for i in range(70):\n",
    "        time.sleep(0.5)\n",
    "        pm.append(sess.run(Y_hat, feed_dict={X_input: samples.all['sample'][i*3000:i*3000+3000],batch_size:len(samples.all['sample'][i*3000:i*3000+3000])}))\n",
    "    pm=np.reshape(np.concatenate(pm),[610,340])\n",
    "elif map_name == 'Indian':\n",
    "    for i in range(15):\n",
    "        time.sleep(1)\n",
    "        pm.append(sess.run(Y_hat, feed_dict={X_input: samples.all['sample'][i*1500:i*1500+1500],batch_size:len(samples.all['sample'][i*1500:i*1500+1500])}))\n",
    "    pm=np.reshape(np.concatenate(pm),[145,145])"
   ]
  },
  {
   "cell_type": "code",
   "execution_count": 9,
   "metadata": {},
   "outputs": [],
   "source": [
    "import scipy\n",
    "scipy.io.savemat(smat, {'pm':pm})"
   ]
  },
  {
   "cell_type": "code",
   "execution_count": 10,
   "metadata": {},
   "outputs": [
    {
     "data": {
      "text/plain": [
       "<Figure size 640x480 with 1 Axes>"
      ]
     },
     "metadata": {},
     "output_type": "display_data"
    }
   ],
   "source": [
    "import matplotlib.pyplot as plt\n",
    "plt.imshow(pm)\n",
    "plt.axis('off')\n",
    "plt.show()"
   ]
  },
  {
   "cell_type": "code",
   "execution_count": 11,
   "metadata": {},
   "outputs": [
    {
     "data": {
      "image/png": "[encoded data removed]",
      "text/plain": [
       "<Figure size 432x288 with 1 Axes>"
      ]
     },
     "metadata": {},
     "output_type": "display_data"
    },
    {
     "data": {
      "image/png": "[encoded data removed]",
      "text/plain": [
       "<Figure size 432x288 with 1 Axes>"
      ]
     },
     "metadata": {},
     "output_type": "display_data"
    }
   ],
   "source": [
    "plt.imshow(samples.img['gt']+1,cmap=plt.cm.jet)\n",
    "plt.axis('off')\n",
    "plt.show()\n",
    "plt.imshow((pm+1)*(samples.img['gt']!=255),cmap=plt.cm.jet)\n",
    "plt.axis('off')\n",
    "plt.show()"
   ]
  },
  {
   "cell_type": "code",
   "execution_count": null,
   "metadata": {},
   "outputs": [],
   "source": []
  }
 ],
 "metadata": {
  "kernelspec": {
   "display_name": "Python 3",
   "language": "python",
   "name": "python3"
  },
  "language_info": {
   "codemirror_mode": {
    "name": "ipython",
    "version": 3
   },
   "file_extension": ".py",
   "mimetype": "text/x-python",
   "name": "python",
   "nbconvert_exporter": "python",
   "pygments_lexer": "ipython3",
   "version": "3.6.5"
  }
 },
 "nbformat": 4,
 "nbformat_minor": 2
}
